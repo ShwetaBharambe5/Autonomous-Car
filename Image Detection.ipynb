{
 "cells": [
  {
   "cell_type": "code",
   "execution_count": 9,
   "id": "185cb5fe",
   "metadata": {
    "scrolled": true
   },
   "outputs": [],
   "source": [
    "from imageai.Detection import ObjectDetection\n",
    "import os\n",
    "\n",
    "execution_path = os.getcwd()"
   ]
  },
  {
   "cell_type": "code",
   "execution_count": 10,
   "id": "96e9190a",
   "metadata": {},
   "outputs": [
    {
     "name": "stdout",
     "output_type": "stream",
     "text": [
      "Note: you may need to restart the kernel to use updated packages.\n"
     ]
    }
   ],
   "source": [
    "pip install cython pillow>=7.0.0 numpy>=1.18.1 opencv-python>=4.1.2 torch>=1.9.0 --extra-index-url https://download.pytorch.org/whl/cpu torchvision>=0.10.0 --extra-index-url https://download.pytorch.org/whl/cpu pytest==7.1.3 tqdm==4.64.1 scipy>=1.7.3 matplotlib>=3.4.3 mock==4.0.3"
   ]
  },
  {
   "cell_type": "code",
   "execution_count": 11,
   "id": "adb3bf86",
   "metadata": {},
   "outputs": [
    {
     "name": "stdout",
     "output_type": "stream",
     "text": [
      "Requirement already satisfied: imageai in c:\\users\\shweta\\anaconda3\\lib\\site-packages (3.0.2)\n",
      "Note: you may need to restart the kernel to use updated packages.\n"
     ]
    }
   ],
   "source": [
    "pip install imageai --upgrade"
   ]
  },
  {
   "cell_type": "code",
   "execution_count": 12,
   "id": "49e33e47",
   "metadata": {},
   "outputs": [
    {
     "name": "stdout",
     "output_type": "stream",
     "text": [
      "person  :  87.82  :  [617, 513, 667, 638]\n",
      "--------------------------------\n",
      "person  :  86.61  :  [497, 569, 560, 703]\n",
      "--------------------------------\n",
      "person  :  78.1  :  [584, 422, 621, 515]\n",
      "--------------------------------\n",
      "person  :  75.74  :  [233, 563, 321, 713]\n",
      "--------------------------------\n",
      "umbrella  :  66.09  :  [752, 607, 1006, 714]\n",
      "--------------------------------\n",
      "person  :  62.86  :  [535, 382, 560, 459]\n",
      "--------------------------------\n",
      "car  :  61.24  :  [506, 365, 602, 437]\n",
      "--------------------------------\n",
      "person  :  61.07  :  [403, 424, 438, 522]\n",
      "--------------------------------\n",
      "umbrella  :  60.67  :  [5, 447, 141, 516]\n",
      "--------------------------------\n",
      "person  :  59.74  :  [158, 572, 215, 714]\n",
      "--------------------------------\n",
      "person  :  58.85  :  [476, 406, 511, 500]\n",
      "--------------------------------\n",
      "person  :  56.26  :  [25, 581, 74, 715]\n",
      "--------------------------------\n",
      "person  :  53.22  :  [721, 426, 766, 535]\n",
      "--------------------------------\n",
      "person  :  53.1  :  [217, 501, 274, 619]\n",
      "--------------------------------\n",
      "umbrella  :  50.36  :  [823, 370, 902, 438]\n",
      "--------------------------------\n"
     ]
    }
   ],
   "source": [
    "detector = ObjectDetection()\n",
    "detector.setModelTypeAsRetinaNet()\n",
    "detector.setModelPath( os.path.join(execution_path , \"retinanet_resnet50_fpn_coco-eeacb38b.pth\"))\n",
    "detector.loadModel()\n",
    "detections = detector.detectObjectsFromImage(input_image=os.path.join(execution_path , \"image.jpg\"), output_image_path=os.path.join(execution_path , \"imagenew.jpg\"))\n",
    "\n",
    "for eachObject in detections:\n",
    "    print(eachObject[\"name\"] , \" : \", eachObject[\"percentage_probability\"], \" : \", eachObject[\"box_points\"] )\n",
    "    print(\"--------------------------------\")"
   ]
  }
 ],
 "metadata": {
  "kernelspec": {
   "display_name": "Python 3",
   "language": "python",
   "name": "python3"
  },
  "language_info": {
   "codemirror_mode": {
    "name": "ipython",
    "version": 3
   },
   "file_extension": ".py",
   "mimetype": "text/x-python",
   "name": "python",
   "nbconvert_exporter": "python",
   "pygments_lexer": "ipython3",
   "version": "3.8.8"
  }
 },
 "nbformat": 4,
 "nbformat_minor": 5
}
